{
 "cells": [
  {
   "cell_type": "code",
   "execution_count": 4,
   "metadata": {},
   "outputs": [
    {
     "name": "stderr",
     "output_type": "stream",
     "text": [
      "Using TensorFlow backend.\n"
     ]
    }
   ],
   "source": [
    "import os\n",
    "import sys\n",
    "import numpy as np\n",
    "import pandas as pd\n",
    "import matplotlib.pyplot as plt\n",
    "from keras.preprocessing.text import Tokenizer\n",
    "from keras.preprocessing.sequence import pad_sequences\n",
    "from keras.layers import Dense, Input, GlobalMaxPooling1D\n",
    "from keras.layers import Conv1D, MaxPooling1D, Embedding\n",
    "from keras.models import Model\n",
    "from sklearn.metrics import roc_auc_score"
   ]
  },
  {
   "cell_type": "code",
   "execution_count": 5,
   "metadata": {},
   "outputs": [],
   "source": [
    "MAX_SEQUENCE_LENGTH = 100\n",
    "MAX_VOCAB_SIZE = 20000\n",
    "EMBEDDING_DIM = 100\n",
    "VALIDATION_SPLIT = 0.2\n",
    "BATCH_SIZE =128\n",
    "EPOCHS = 10"
   ]
  },
  {
   "cell_type": "code",
   "execution_count": 12,
   "metadata": {},
   "outputs": [
    {
     "name": "stdout",
     "output_type": "stream",
     "text": [
      "Loading word vectors....\n",
      "Found 400000 word vectors\n"
     ]
    }
   ],
   "source": [
    "print('Loading word vectors....')\n",
    "word2vec = {}\n",
    "with open('glove.6B.100d.txt', encoding=\"utf8\") as f:\n",
    "    for line in f:\n",
    "        values = line.split()\n",
    "        word = values[0]\n",
    "        vec = np.asarray(values[1:], dtype='float32')\n",
    "        word2vec[word] = vec\n",
    "#f=open(\"glove.6B.100d.txt\", \"r\", encoding=\"utf8\")\n",
    "#contents = f.read()\n",
    "print('Found %s word vectors' % len(word2vec))"
   ]
  },
  {
   "cell_type": "code",
   "execution_count": 14,
   "metadata": {},
   "outputs": [
    {
     "name": "stdout",
     "output_type": "stream",
     "text": [
      "Loading in comments...\n"
     ]
    }
   ],
   "source": [
    "print('Loading in comments...')\n",
    "train = pd.read_csv('train.csv')\n",
    "sentences = train['comment_text'].fillna('DUMMY_VALUE').values\n",
    "labels = ['toxic', 'severe_toxic', 'obscene', 'threat', 'insult', 'identity_hate']\n",
    "targets = train[labels].values"
   ]
  },
  {
   "cell_type": "code",
   "execution_count": 15,
   "metadata": {},
   "outputs": [
    {
     "name": "stdout",
     "output_type": "stream",
     "text": [
      "max sequence length: 5000\n",
      "min sequence length: 6\n",
      "median sequence length 205\n"
     ]
    }
   ],
   "source": [
    "print('max sequence length:', max(len(s) for s in sentences))\n",
    "print('min sequence length:', min(len(s) for s in sentences))\n",
    "s = sorted(len(s) for s in sentences)\n",
    "print('median sequence length', s[len(s) // 2])"
   ]
  },
  {
   "cell_type": "code",
   "execution_count": 16,
   "metadata": {},
   "outputs": [],
   "source": [
    "#convert sentences into integers\n",
    "\n",
    "tokenizer = Tokenizer(num_words=MAX_VOCAB_SIZE)\n",
    "tokenizer.fit_on_texts(sentences)\n",
    "sequences = tokenizer.texts_to_sequences(sentences)"
   ]
  },
  {
   "cell_type": "code",
   "execution_count": 17,
   "metadata": {},
   "outputs": [
    {
     "name": "stdout",
     "output_type": "stream",
     "text": [
      "Found 210337 unique tokens\n",
      "shape of data tensor: (159571, 100)\n"
     ]
    }
   ],
   "source": [
    "#word to integer mapping\n",
    "\n",
    "word2idx = tokenizer.word_index\n",
    "print('Found %s unique tokens' % len(word2idx))\n",
    "data = pad_sequences(sequences, maxlen=MAX_SEQUENCE_LENGTH)\n",
    "print('shape of data tensor:', data.shape)"
   ]
  },
  {
   "cell_type": "code",
   "execution_count": 18,
   "metadata": {},
   "outputs": [
    {
     "name": "stdout",
     "output_type": "stream",
     "text": [
      "Filling pre-trained embeddings....\n"
     ]
    }
   ],
   "source": [
    "#Embedding Matrix\n",
    "print('Filling pre-trained embeddings....')\n",
    "num_words = min(MAX_VOCAB_SIZE, len(word2idx) + 1)\n",
    "embedding_matrix = np.zeros((num_words, EMBEDDING_DIM))\n",
    "for word, i in word2idx.items():\n",
    "    if i < MAX_VOCAB_SIZE:\n",
    "        embedding_vector=word2vec.get(word)\n",
    "        if embedding_vector is not None:\n",
    "            #words not found in embedding indes will be all zeros\n",
    "            embedding_matrix[i] = embedding_vector"
   ]
  },
  {
   "cell_type": "code",
   "execution_count": 19,
   "metadata": {},
   "outputs": [],
   "source": [
    "embedding_layer = Embedding(\n",
    "    num_words,\n",
    "    EMBEDDING_DIM,\n",
    "    weights=[embedding_matrix],\n",
    "    input_length=MAX_SEQUENCE_LENGTH,\n",
    "    trainable=False\n",
    ")"
   ]
  },
  {
   "cell_type": "code",
   "execution_count": 20,
   "metadata": {},
   "outputs": [
    {
     "name": "stdout",
     "output_type": "stream",
     "text": [
      "Building model....\n"
     ]
    }
   ],
   "source": [
    "print('Building model....')\n",
    "input_ = Input(shape=(MAX_SEQUENCE_LENGTH, ))\n",
    "x = embedding_layer(input_)\n",
    "x = Conv1D(128, 3, activation='relu')(x)\n",
    "x = MaxPooling1D(3)(x)\n",
    "x = Conv1D(128, 3, activation='relu')(x)\n",
    "x = MaxPooling1D(3)(x)\n",
    "x = Conv1D(128, 3, activation='relu')(x)\n",
    "x = GlobalMaxPooling1D()(x)\n",
    "x = Dense(128, activation='relu')(x)\n",
    "output = Dense(len(labels), activation='sigmoid')(x)"
   ]
  },
  {
   "cell_type": "code",
   "execution_count": 21,
   "metadata": {},
   "outputs": [
    {
     "name": "stdout",
     "output_type": "stream",
     "text": [
      "Training model....\n",
      "Train on 127656 samples, validate on 31915 samples\n",
      "Epoch 1/10\n",
      "127656/127656 [==============================] - 120s 938us/step - loss: 0.0843 - acc: 0.9732 - val_loss: 0.0740 - val_acc: 0.9752\n",
      "Epoch 2/10\n",
      "127656/127656 [==============================] - 137s 1ms/step - loss: 0.0675 - acc: 0.9772 - val_loss: 0.0680 - val_acc: 0.9768\n",
      "Epoch 3/10\n",
      "127656/127656 [==============================] - 134s 1ms/step - loss: 0.0632 - acc: 0.9783 - val_loss: 0.0730 - val_acc: 0.9750\n",
      "Epoch 4/10\n",
      "127656/127656 [==============================] - 133s 1ms/step - loss: 0.0603 - acc: 0.9791 - val_loss: 0.0771 - val_acc: 0.9744\n",
      "Epoch 5/10\n",
      "127656/127656 [==============================] - 133s 1ms/step - loss: 0.0581 - acc: 0.9797 - val_loss: 0.0669 - val_acc: 0.9779\n",
      "Epoch 6/10\n",
      "127656/127656 [==============================] - 132s 1ms/step - loss: 0.0568 - acc: 0.9802 - val_loss: 0.0766 - val_acc: 0.9752\n",
      "Epoch 7/10\n",
      "127656/127656 [==============================] - 136s 1ms/step - loss: 0.0552 - acc: 0.9806 - val_loss: 0.0732 - val_acc: 0.9774\n",
      "Epoch 8/10\n",
      "127656/127656 [==============================] - 132s 1ms/step - loss: 0.0542 - acc: 0.9808 - val_loss: 0.0797 - val_acc: 0.9772\n",
      "Epoch 9/10\n",
      "127656/127656 [==============================] - 132s 1ms/step - loss: 0.0533 - acc: 0.9812 - val_loss: 0.1018 - val_acc: 0.9758\n",
      "Epoch 10/10\n",
      "127656/127656 [==============================] - 134s 1ms/step - loss: 0.0530 - acc: 0.9813 - val_loss: 0.0840 - val_acc: 0.9744\n"
     ]
    }
   ],
   "source": [
    "model = Model(input_, output)\n",
    "model.compile(loss='binary_crossentropy', optimizer='rmsprop', metrics=['accuracy'])\n",
    "print('Training model....')\n",
    "r = model.fit(data, targets, batch_size=BATCH_SIZE, epochs=EPOCHS, validation_split=VALIDATION_SPLIT)"
   ]
  },
  {
   "cell_type": "code",
   "execution_count": 22,
   "metadata": {},
   "outputs": [
    {
     "data": {
      "image/png": "[encoded data removed]",
      "text/plain": [
       "<matplotlib.figure.Figure at 0x151243c37f0>"
      ]
     },
     "metadata": {},
     "output_type": "display_data"
    }
   ],
   "source": [
    "plt.plot(r.history['loss'], label='loss')\n",
    "plt.plot(r.history['val_loss'], label='val_loss')\n",
    "plt.legend()\n",
    "plt.show()"
   ]
  },
  {
   "cell_type": "code",
   "execution_count": 23,
   "metadata": {},
   "outputs": [
    {
     "data": {
      "image/png": "[encoded data removed]",
      "text/plain": [
       "<matplotlib.figure.Figure at 0x15124443a90>"
      ]
     },
     "metadata": {},
     "output_type": "display_data"
    }
   ],
   "source": [
    "plt.plot(r.history['acc'], label='acc')\n",
    "plt.plot(r.history['val_acc'], label='val_acc')\n",
    "plt.legend()\n",
    "plt.show()"
   ]
  },
  {
   "cell_type": "code",
   "execution_count": 24,
   "metadata": {},
   "outputs": [
    {
     "data": {
      "text/plain": [
       "array([[  3.21314086e-09,   7.85868492e-29,   9.35628460e-14,\n",
       "          4.56467186e-34,   3.18551405e-14,   3.16055923e-23],\n",
       "       [  1.32152950e-03,   1.42599388e-09,   1.33258160e-04,\n",
       "          2.03258765e-09,   1.03445025e-04,   2.44940111e-07],\n",
       "       [  1.88389458e-02,   5.28574219e-07,   3.83181730e-03,\n",
       "          7.40894393e-07,   2.90048937e-03,   1.75883943e-05],\n",
       "       ..., \n",
       "       [  9.88315853e-12,   0.00000000e+00,   1.67287272e-21,\n",
       "          0.00000000e+00,   2.36656252e-23,   0.00000000e+00],\n",
       "       [  1.30454535e-02,   9.89293426e-07,   2.70124828e-03,\n",
       "          1.92777429e-06,   2.34483392e-03,   4.64449367e-05],\n",
       "       [  1.43907502e-01,   4.14148235e-05,   8.86116084e-03,\n",
       "          9.54113784e-04,   1.66346002e-02,   4.60735848e-03]], dtype=float32)"
      ]
     },
     "execution_count": 24,
     "metadata": {},
     "output_type": "execute_result"
    }
   ],
   "source": [
    "result = model.predict(data)\n",
    "result"
   ]
  },
  {
   "cell_type": "code",
   "execution_count": null,
   "metadata": {},
   "outputs": [],
   "source": []
  }
 ],
 "metadata": {
  "kernelspec": {
   "display_name": "Python 3",
   "language": "python",
   "name": "python3"
  },
  "language_info": {
   "codemirror_mode": {
    "name": "ipython",
    "version": 3
   },
   "file_extension": ".py",
   "mimetype": "text/x-python",
   "name": "python",
   "nbconvert_exporter": "python",
   "pygments_lexer": "ipython3",
   "version": "3.5.5"
  }
 },
 "nbformat": 4,
 "nbformat_minor": 2
}
